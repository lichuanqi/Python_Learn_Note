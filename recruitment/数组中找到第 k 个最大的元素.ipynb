{
 "cells": [
  {
   "cell_type": "markdown",
   "metadata": {},
   "source": [
    "# 数组中找到第 k 个最大的元素\n",
    "在未排序的数组中找到第 k 个最大的元素。请注意，你需要找的是数组排序后的第 k 个最大的元素，而不是第 k 个不同的元素。\n",
    "\n",
    "示例1：\n",
    "\n",
    "```\n",
    "输入: [3,2,1,5,6,4] 和 k = 2\n",
    "输出: 5\n",
    "```\n",
    "\n",
    "示例2：\n",
    "\n",
    "```\n",
    "输入: [3,2,3,1,2,4,5,5,6] 和 k = 4\n",
    "输出: 4\n",
    "```\n",
    "\n",
    "\n",
    "说明：\n",
    "\n",
    "你可以假设 k 总是有效的，且 1 ≤ k ≤ 数组的长度。\n",
    "\n",
    "作答：\n",
    "\n"
   ]
  },
  {
   "cell_type": "code",
   "execution_count": null,
   "metadata": {},
   "outputs": [],
   "source": [
    "from typing import List\n",
    "class Solution:\n",
    "    def findKthLargest(self, nums: List[int], k: int) -> int:"
   ]
  },
  {
   "cell_type": "markdown",
   "metadata": {},
   "source": [
    "验证结果："
   ]
  },
  {
   "cell_type": "code",
   "execution_count": null,
   "metadata": {},
   "outputs": [],
   "source": [
    "if __name__ == \"__main__\":\n",
    "    test = Solution()\n",
    "    print(test.findKthLargest([3,2,1,5,6,4],2))\n",
    "    print(test.findKthLargest([3,2,3,1,2,4,5,5,6],4))"
   ]
  },
  {
   "cell_type": "markdown",
   "metadata": {},
   "source": [
    "## 答案解析\n",
    "\n",
    "代码："
   ]
  },
  {
   "cell_type": "code",
   "execution_count": 1,
   "metadata": {},
   "outputs": [],
   "source": [
    "from typing import List\n",
    "class Solution:\n",
    "    def findKthLargest(self, nums: List[int], k: int) -> int:\n",
    "\n",
    "        def adju_max_heap(nums_list, in_node):  # 从当前内部节点处修正大根堆\n",
    "            \"\"\"\"in_node是内部节点的索引\"\"\"\n",
    "            l, r, large_idx= 2*in_node+1, 2*in_node+2, in_node  # 最大值的索引默认为该内部节点\n",
    "\n",
    "            if l < len(nums_list) and nums_list[large_idx] < nums[l]:  \n",
    "                # 如果左孩子值大于该内部节点的值，则最大值索引指向左孩子\n",
    "                large_idx = l\n",
    "            if r < len(nums_list) and nums_list[large_idx] < nums[r]:\n",
    "                # 如果执行了上一个if语句，此时最大值索引指向左孩子，否则还是指向该内部节点\n",
    "                # 然后最大值索引指向的值和右孩子的值比较\n",
    "                large_idx = r\n",
    "\n",
    "            # 上述两个if就是得到(内部节点，左孩子，右孩子)中最大值的索引\n",
    "            if large_idx != in_node: # 如果最大值在左孩子和右孩子中，则和内部节点交换\n",
    "                nums_list[large_idx], nums_list[in_node] = nums_list[in_node], nums_list[large_idx]\n",
    "                # 如何内部节点是和左孩子交换，那就递归修正它的左子树，否则递归修正它的右子树\n",
    "                adju_max_heap(nums_list, large_idx)\n",
    "\n",
    "        def build_max_heap(nums_list):  # 由列表建立大根堆\n",
    "            \"\"\"\"从后往前遍历所有内部节点，其中最后一个内部节点的公式为len(nums_list)//2 - 1\"\"\"\n",
    "            for in_node in range(len(nums_list)//2 - 1, -1, -1):\n",
    "                adju_max_heap(nums_list, in_node)\n",
    "        \n",
    "        def find_kth_max(nums_list, k):  # 从列表中找到第k个最大的\n",
    "            build_max_heap(nums_list)  # 先建立大根堆\n",
    "            for _ in range(k-1):\n",
    "                nums_list[0], nums_list[-1] = nums_list[-1], nums_list[0]  # 堆头和堆尾交换\n",
    "                nums_list.pop()  # 删除堆尾\n",
    "                adju_max_heap(nums_list, 0)  # 从堆头处开始修正大根堆\n",
    "            return nums_list[0]\n",
    "        return find_kth_max(nums, k)  "
   ]
  },
  {
   "cell_type": "markdown",
   "metadata": {},
   "source": [
    "验证结果："
   ]
  },
  {
   "cell_type": "code",
   "execution_count": 4,
   "metadata": {},
   "outputs": [
    {
     "name": "stdout",
     "output_type": "stream",
     "text": [
      "5\n",
      "4\n"
     ]
    }
   ],
   "source": [
    "if __name__ == \"__main__\":\n",
    "    test = Solution()\n",
    "    print(test.findKthLargest([3,2,1,5,6,4],2))\n",
    "    print(test.findKthLargest([3,2,3,1,2,4,5,5,6],4))"
   ]
  },
  {
   "cell_type": "markdown",
   "metadata": {},
   "source": [
    "来源：力扣（LeetCode）"
   ]
  },
  {
   "cell_type": "code",
   "execution_count": null,
   "metadata": {},
   "outputs": [],
   "source": []
  }
 ],
 "metadata": {
  "kernelspec": {
   "display_name": "Python 3",
   "language": "python",
   "name": "python3"
  },
  "language_info": {
   "codemirror_mode": {
    "name": "ipython",
    "version": 3
   },
   "file_extension": ".py",
   "mimetype": "text/x-python",
   "name": "python",
   "nbconvert_exporter": "python",
   "pygments_lexer": "ipython3",
   "version": "3.6.9"
  }
 },
 "nbformat": 4,
 "nbformat_minor": 4
}
