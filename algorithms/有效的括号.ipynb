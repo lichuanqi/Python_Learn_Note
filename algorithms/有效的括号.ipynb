{
 "cells": [
  {
   "cell_type": "markdown",
   "metadata": {},
   "source": [
    "# 有效的括号\n",
    "给定一个只包括 '('，')'，'{'，'}'，'['，']' 的字符串 s ，判断字符串是否有效。\n",
    "\n",
    "有效字符串需满足：\n",
    "\n",
    "* 左括号必须用相同类型的右括号闭合。\n",
    "* 左括号必须以正确的顺序闭合。\n",
    "\n",
    "\n",
    "示例1：\n",
    "\n",
    "```\n",
    "输入：s = \"()\"\n",
    "输出：true\n",
    "```\n",
    "\n",
    "示例2：\n",
    "\n",
    "```\n",
    "输入：s = \"()[]{}\"\n",
    "输出：true\n",
    "```\n",
    "\n",
    "示例3：\n",
    "\n",
    "```\n",
    "输入：s = \"(]\"\n",
    "输出：false\n",
    "```\n",
    "\n",
    "示例4：\n",
    "\n",
    "```\n",
    "输入：s = \"([)]\"\n",
    "输出：false\n",
    "```\n",
    "\n",
    "示例5：\n",
    "\n",
    "```\n",
    "输入：s = \"{[]}\"\n",
    "输出：true\n",
    "```\n",
    "\n",
    "提示：\n",
    "\n",
    "* 1 <= s.length <= $10^4$\n",
    "* s 仅由括号 '()[]{}' 组成\n",
    "\n",
    "作答：\n",
    "\n"
   ]
  },
  {
   "cell_type": "code",
   "execution_count": null,
   "metadata": {},
   "outputs": [],
   "source": [
    "class Solution:\n",
    "    def isValid(self, s: str) -> bool:"
   ]
  },
  {
   "cell_type": "markdown",
   "metadata": {},
   "source": [
    "验证结果："
   ]
  },
  {
   "cell_type": "code",
   "execution_count": null,
   "metadata": {},
   "outputs": [],
   "source": [
    "if __name__ == \"__main__\":\n",
    "    test = Solution()\n",
    "    print(test.isValid(\"()\"))\n",
    "    print(test.isValid(\"()[]{}\"))\n",
    "    print(test.isValid(\"(]\"))\n",
    "    print(test.isValid(\"([)]\"))\n",
    "    print(test.isValid(\"{[]}\"))"
   ]
  },
  {
   "cell_type": "markdown",
   "metadata": {},
   "source": [
    "## 答案解析\n",
    "\n",
    "判断括号的有效性可以使用「栈」这一数据结构来解决。\n",
    "\n",
    "我们遍历给定的字符串 s。当我们遇到一个左括号时，我们会期望在后续的遍历中，有一个相同类型的右括号将其闭合。由于后遇到的左括号要先闭合，因此我们可以将这个左括号放入栈顶。\n",
    "\n",
    "当我们遇到一个右括号时，我们需要将一个相同类型的左括号闭合。此时，我们可以取出栈顶的左括号并判断它们是否是相同类型的括号。如果不是相同的类型，或者栈中并没有左括号，那么字符串 s 无效，返回 False。为了快速判断括号的类型，我们可以使用哈希表存储每一种括号。哈希表的键为右括号，值为相同类型的左括号。\n",
    "\n",
    "在遍历结束后，如果栈中没有左括号，说明我们将字符串 s 中的所有左括号闭合，返回 True，否则返回 False。\n",
    "\n",
    "注意到有效字符串的长度一定为偶数，因此如果字符串的长度为奇数，我们可以直接返回 False，省去后续的遍历判断过程。\n",
    "\n",
    "代码："
   ]
  },
  {
   "cell_type": "code",
   "execution_count": 1,
   "metadata": {},
   "outputs": [],
   "source": [
    "class Solution:\n",
    "    def isValid(self, s: str) -> bool:\n",
    "        if len(s) % 2 == 1:\n",
    "            return False\n",
    "        \n",
    "        pairs = {\n",
    "            \")\": \"(\",\n",
    "            \"]\": \"[\",\n",
    "            \"}\": \"{\",\n",
    "        }\n",
    "        stack = list()\n",
    "        for ch in s:\n",
    "            if ch in pairs:\n",
    "                if not stack or stack[-1] != pairs[ch]:\n",
    "                    return False\n",
    "                stack.pop()\n",
    "            else:\n",
    "                stack.append(ch)\n",
    "        \n",
    "        return not stack\n"
   ]
  },
  {
   "cell_type": "markdown",
   "metadata": {},
   "source": [
    "验证结果："
   ]
  },
  {
   "cell_type": "code",
   "execution_count": 3,
   "metadata": {},
   "outputs": [
    {
     "name": "stdout",
     "output_type": "stream",
     "text": [
      "True\n",
      "True\n",
      "False\n",
      "False\n",
      "True\n"
     ]
    }
   ],
   "source": [
    "if __name__ == \"__main__\":\n",
    "    test = Solution()\n",
    "    print(test.isValid(\"()\"))\n",
    "    print(test.isValid(\"()[]{}\"))\n",
    "    print(test.isValid(\"(]\"))\n",
    "    print(test.isValid(\"([)]\"))\n",
    "    print(test.isValid(\"{[]}\"))"
   ]
  },
  {
   "cell_type": "markdown",
   "metadata": {},
   "source": [
    "复杂度分析\n",
    "\n",
    "* 时间复杂度：O(n)，其中 n 是字符串 s 的长度。\n",
    "* 空间复杂度：O(n+∣Σ∣)，其中 Σ 表示字符集，本题中字符串只包含 6 种括号，∣Σ∣=6。栈中的字符数量为 O(n)，而哈希表使用的空间为 O(∣Σ∣)，相加即可得到总空间复杂度。\n",
    "\n",
    "\n",
    "\n",
    "来源：力扣（LeetCode）"
   ]
  },
  {
   "cell_type": "code",
   "execution_count": null,
   "metadata": {},
   "outputs": [],
   "source": []
  }
 ],
 "metadata": {
  "kernelspec": {
   "display_name": "Python 3",
   "language": "python",
   "name": "python3"
  },
  "language_info": {
   "codemirror_mode": {
    "name": "ipython",
    "version": 3
   },
   "file_extension": ".py",
   "mimetype": "text/x-python",
   "name": "python",
   "nbconvert_exporter": "python",
   "pygments_lexer": "ipython3",
   "version": "3.6.9"
  }
 },
 "nbformat": 4,
 "nbformat_minor": 4
}
