{
 "cells": [
  {
   "cell_type": "markdown",
   "metadata": {},
   "source": [
    "# 最长公共前缀\n",
    "编写一个函数来查找字符串数组中的最长公共前缀。\n",
    "\n",
    "如果不存在公共前缀，返回空字符串 \"\"。\n",
    "\n",
    "示例1：\n",
    "\n",
    "```\n",
    "输入：strs = [\"flower\",\"flow\",\"flight\"]\n",
    "输出：\"fl\"\n",
    "```\n",
    "\n",
    "示例2：\n",
    "\n",
    "```\n",
    "输入：strs = [\"dog\",\"racecar\",\"car\"]\n",
    "输出：\"\"\n",
    "解释：输入不存在公共前缀。\n",
    "```\n",
    "\n",
    "\n",
    "提示：\n",
    "\n",
    "* 0 <= strs.length <= 200\n",
    "* 0 <= strs[i].length <= 200\n",
    "* strs[i] 仅由小写英文字母组成\n",
    "\n",
    "作答：\n",
    "\n"
   ]
  },
  {
   "cell_type": "code",
   "execution_count": null,
   "metadata": {},
   "outputs": [],
   "source": [
    "from typing import List\n",
    "class Solution:\n",
    "    def longestCommonPrefix(self, strs: List[str]) -> str:"
   ]
  },
  {
   "cell_type": "markdown",
   "metadata": {},
   "source": [
    "验证结果："
   ]
  },
  {
   "cell_type": "code",
   "execution_count": null,
   "metadata": {},
   "outputs": [],
   "source": [
    "if __name__ == \"__main__\":\n",
    "    test = Solution()\n",
    "    print(test.longestCommonPrefix([\"flower\",\"flow\",\"flight\"]))\n",
    "    print(test.longestCommonPrefix([\"dog\",\"racecar\",\"car\"]))"
   ]
  },
  {
   "cell_type": "markdown",
   "metadata": {},
   "source": [
    "## 答案解析\n",
    "\n",
    "代码："
   ]
  },
  {
   "cell_type": "code",
   "execution_count": 5,
   "metadata": {},
   "outputs": [],
   "source": [
    "from typing import List\n",
    "class Solution:\n",
    "    def longestCommonPrefix(self, strs: List[str]) -> str:\n",
    "        if not strs:\n",
    "            return \"\"\n",
    "        \n",
    "        prefix, count = strs[0], len(strs)\n",
    "        for i in range(1, count):\n",
    "            prefix = self.lcp(prefix, strs[i])\n",
    "            if not prefix:\n",
    "                break\n",
    "        \n",
    "        return prefix\n",
    "\n",
    "    def lcp(self, str1, str2):\n",
    "        length, index = min(len(str1), len(str2)), 0\n",
    "        while index < length and str1[index] == str2[index]:\n",
    "            index += 1\n",
    "        return str1[:index]"
   ]
  },
  {
   "cell_type": "markdown",
   "metadata": {},
   "source": [
    "验证结果："
   ]
  },
  {
   "cell_type": "code",
   "execution_count": 7,
   "metadata": {},
   "outputs": [
    {
     "name": "stdout",
     "output_type": "stream",
     "text": [
      "fl\n",
      "\n"
     ]
    }
   ],
   "source": [
    "if __name__ == \"__main__\":\n",
    "    test = Solution()\n",
    "    print(test.longestCommonPrefix([\"flower\",\"flow\",\"flight\"]))\n",
    "    print(test.longestCommonPrefix([\"dog\",\"racecar\",\"car\"]))"
   ]
  },
  {
   "cell_type": "markdown",
   "metadata": {},
   "source": [
    "复杂度分析\n",
    "\n",
    "* 时间复杂度：O(mn)，其中 m 是字符串数组中的字符串的平均长度，n 是字符串的数量。最坏情况下，字符串数组中的每个字符串的每个字符都会被比较一次。\n",
    "\n",
    "* 空间复杂度：O(1)。使用的额外空间复杂度为常数。\n",
    "\n",
    "\n",
    "来源：力扣（LeetCode）"
   ]
  },
  {
   "cell_type": "code",
   "execution_count": null,
   "metadata": {},
   "outputs": [],
   "source": []
  }
 ],
 "metadata": {
  "kernelspec": {
   "display_name": "Python 3",
   "language": "python",
   "name": "python3"
  },
  "language_info": {
   "codemirror_mode": {
    "name": "ipython",
    "version": 3
   },
   "file_extension": ".py",
   "mimetype": "text/x-python",
   "name": "python",
   "nbconvert_exporter": "python",
   "pygments_lexer": "ipython3",
   "version": "3.6.9"
  }
 },
 "nbformat": 4,
 "nbformat_minor": 4
}
