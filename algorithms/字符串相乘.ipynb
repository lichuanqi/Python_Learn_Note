{
 "cells": [
  {
   "cell_type": "markdown",
   "metadata": {},
   "source": [
    "# 字符串相乘\n",
    "给定两个以字符串形式表示的非负整数 num1 和 num2，返回 num1 和 num2 的乘积，它们的乘积也表示为字符串形式。\n",
    "\n",
    "示例1：\n",
    "\n",
    "```\n",
    "输入: num1 = \"2\", num2 = \"3\"\n",
    "输出: \"6\"\n",
    "```\n",
    "\n",
    "示例2：\n",
    "\n",
    "```\n",
    "输入: num1 = \"123\", num2 = \"456\"\n",
    "输出: \"56088\"\n",
    "```\n",
    "\n",
    "\n",
    "说明：\n",
    "\n",
    "* num1 和 num2 的长度小于110。\n",
    "* num1 和 num2 只包含数字 0-9。\n",
    "* num1 和 num2 均不以零开头，除非是数字 0 本身。\n",
    "* 不能使用任何标准库的大数类型（比如 BigInteger）或直接将输入转换为整数来处理。\n",
    "\n",
    "\n",
    "作答：\n",
    "\n"
   ]
  },
  {
   "cell_type": "code",
   "execution_count": null,
   "metadata": {},
   "outputs": [],
   "source": [
    "class Solution:\n",
    "    def multiply(self, num1: str, num2: str) -> str:"
   ]
  },
  {
   "cell_type": "markdown",
   "metadata": {},
   "source": [
    "验证结果："
   ]
  },
  {
   "cell_type": "code",
   "execution_count": null,
   "metadata": {},
   "outputs": [],
   "source": [
    "if __name__ == \"__main__\":\n",
    "    test = Solution()\n",
    "    print(test.multiply(\"2\",\"3\"))\n",
    "    print(test.multiply(\"123\",\"456\"))"
   ]
  },
  {
   "cell_type": "markdown",
   "metadata": {},
   "source": [
    "## 答案解析\n",
    "\n",
    "代码："
   ]
  },
  {
   "cell_type": "code",
   "execution_count": 1,
   "metadata": {},
   "outputs": [],
   "source": [
    "class Solution:\n",
    "    def multiply(self, num1: str, num2: str) -> str:\n",
    "        if num1 == \"0\" or num2 == \"0\":\n",
    "            return \"0\"\n",
    "        \n",
    "        ans = \"0\"\n",
    "        m, n = len(num1), len(num2)\n",
    "        for i in range(n - 1, -1, -1):\n",
    "            add = 0\n",
    "            y = int(num2[i])\n",
    "            curr = [\"0\"] * (n - i - 1)\n",
    "            for j in range(m - 1, -1, -1):\n",
    "                product = int(num1[j]) * y + add\n",
    "                curr.append(str(product % 10))\n",
    "                add = product // 10\n",
    "            if add > 0:\n",
    "                curr.append(str(add))\n",
    "            curr = \"\".join(curr[::-1])\n",
    "            ans = self.addStrings(ans, curr)\n",
    "        \n",
    "        return ans\n",
    "    \n",
    "    def addStrings(self, num1: str, num2: str) -> str:\n",
    "        i, j = len(num1) - 1, len(num2) - 1\n",
    "        add = 0\n",
    "        ans = list()\n",
    "        while i >= 0 or j >= 0 or add != 0:\n",
    "            x = int(num1[i]) if i >= 0 else 0\n",
    "            y = int(num2[j]) if j >= 0 else 0\n",
    "            result = x + y + add\n",
    "            ans.append(str(result % 10))\n",
    "            add = result // 10\n",
    "            i -= 1\n",
    "            j -= 1\n",
    "        return \"\".join(ans[::-1])\n"
   ]
  },
  {
   "cell_type": "markdown",
   "metadata": {},
   "source": [
    "验证结果："
   ]
  },
  {
   "cell_type": "code",
   "execution_count": 3,
   "metadata": {},
   "outputs": [
    {
     "name": "stdout",
     "output_type": "stream",
     "text": [
      "6\n",
      "56088\n"
     ]
    }
   ],
   "source": [
    "if __name__ == \"__main__\":\n",
    "    test = Solution()\n",
    "    print(test.multiply(\"2\",\"3\"))\n",
    "    print(test.multiply(\"123\",\"456\"))"
   ]
  },
  {
   "cell_type": "markdown",
   "metadata": {},
   "source": [
    "复杂度分析\n",
    "\n",
    "* 时间复杂度：O(mn+$n^2$)，其中 m 和 n 分别是 num1 和 num2的长度。需要从右往左遍历 num2，对于 num2 的每一位，都需要和 num1 的每一位计算乘积，因此计算乘积的总次数是 mn。字符串相加操作共有 n 次，相加的字符串长度最长为 m+n，因此字符串相加的时间复杂度是 O(mn+$n^2$)。总时间复杂度是 O(mn+$n^2$)。\n",
    "\n",
    "* 空间复杂度：O(m+n)，其中 m 和 n 分别是 num1 和 num2的长度。空间复杂度取决于存储中间状态的字符串，由于乘积的最大长度为 m+n，因此存储中间状态的字符串的长度不会超过 m+n。\n",
    "\n",
    "来源：力扣（LeetCode）"
   ]
  },
  {
   "cell_type": "code",
   "execution_count": null,
   "metadata": {},
   "outputs": [],
   "source": []
  }
 ],
 "metadata": {
  "kernelspec": {
   "display_name": "Python 3",
   "language": "python",
   "name": "python3"
  },
  "language_info": {
   "codemirror_mode": {
    "name": "ipython",
    "version": 3
   },
   "file_extension": ".py",
   "mimetype": "text/x-python",
   "name": "python",
   "nbconvert_exporter": "python",
   "pygments_lexer": "ipython3",
   "version": "3.6.9"
  }
 },
 "nbformat": 4,
 "nbformat_minor": 4
}
