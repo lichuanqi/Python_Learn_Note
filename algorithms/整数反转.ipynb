{
 "cells": [
  {
   "cell_type": "markdown",
   "metadata": {},
   "source": [
    "# 整数反转\n",
    "给你一个 32 位的有符号整数 x ，返回将 x 中的数字部分反转后的结果。\n",
    "\n",
    "如果反转后整数超过 32 位的有符号整数的范围 $[−2^{31},  2^{31} − 1]$ ，就返回 0。\n",
    "\n",
    "假设环境不允许存储 64 位整数（有符号或无符号）。\n",
    "\n",
    "示例1：\n",
    "\n",
    "```\n",
    "输入：x = 123\n",
    "输出：321\n",
    "```\n",
    "\n",
    "示例2：\n",
    "\n",
    "```\n",
    "输入：x = -123\n",
    "输出：-321\n",
    "```\n",
    "\n",
    "示例3：\n",
    "```\n",
    "输入：x = 120\n",
    "输出：21\n",
    "```\n",
    "\n",
    "示例4：\n",
    "```\n",
    "输入：x = 0\n",
    "输出：0\n",
    "```\n",
    "\n",
    "\n",
    "提示：\n",
    "\n",
    "* $−2^{31}$ <= x <= $2^{31}$ - 1\n",
    "\n",
    "作答：\n",
    "\n"
   ]
  },
  {
   "cell_type": "code",
   "execution_count": null,
   "metadata": {},
   "outputs": [],
   "source": [
    "class Solution:\n",
    "    def reverse(self, x: int) -> int:"
   ]
  },
  {
   "cell_type": "markdown",
   "metadata": {},
   "source": [
    "验证结果："
   ]
  },
  {
   "cell_type": "code",
   "execution_count": null,
   "metadata": {},
   "outputs": [],
   "source": [
    "if __name__ == \"__main__\":\n",
    "    test = Solution()\n",
    "    print(test.reverse(123))\n",
    "    print(test.reverse(-123))\n",
    "    print(test.reverse(120))\n",
    "    print(test.reverse(0))"
   ]
  },
  {
   "cell_type": "markdown",
   "metadata": {},
   "source": [
    "## 答案解析\n",
    "\n",
    "代码："
   ]
  },
  {
   "cell_type": "code",
   "execution_count": 7,
   "metadata": {},
   "outputs": [],
   "source": [
    "class Solution:\n",
    "    def reverse(self, x: int) -> int:\n",
    "        INT_MIN, INT_MAX = -2**31, 2**31 - 1\n",
    "\n",
    "        rev = 0\n",
    "        while x != 0:\n",
    "            # INT_MIN 也是一个负数，不能写成 rev < INT_MIN // 10\n",
    "            if rev < INT_MIN // 10 + 1 or rev > INT_MAX // 10:\n",
    "                return 0\n",
    "            digit = x % 10\n",
    "            # Python3 的取模运算在 x 为负数时也会返回 [0, 9) 以内的结果，因此这里需要进行特殊判断\n",
    "            if x < 0 and digit > 0:\n",
    "                digit -= 10\n",
    "\n",
    "            # 同理，Python3 的整数除法在 x 为负数时会向下（更小的负数）取整，因此不能写成 x //= 10\n",
    "            x = (x - digit) // 10\n",
    "            rev = rev * 10 + digit\n",
    "        \n",
    "        return rev"
   ]
  },
  {
   "cell_type": "markdown",
   "metadata": {},
   "source": [
    "验证结果："
   ]
  },
  {
   "cell_type": "code",
   "execution_count": 9,
   "metadata": {},
   "outputs": [
    {
     "name": "stdout",
     "output_type": "stream",
     "text": [
      "321\n",
      "-321\n",
      "21\n",
      "0\n"
     ]
    }
   ],
   "source": [
    "if __name__ == \"__main__\":\n",
    "    test = Solution()\n",
    "    print(test.reverse(123))\n",
    "    print(test.reverse(-123))\n",
    "    print(test.reverse(120))\n",
    "    print(test.reverse(0))"
   ]
  },
  {
   "cell_type": "markdown",
   "metadata": {},
   "source": [
    "复杂度分析\n",
    "\n",
    "* 时间复杂度：O(log∣x∣)。翻转的次数即 x 十进制的位数。\n",
    "\n",
    "* 空间复杂度：O(1)。\n",
    "\n",
    "来源：力扣（LeetCode）"
   ]
  }
 ],
 "metadata": {
  "kernelspec": {
   "display_name": "Python 3",
   "language": "python",
   "name": "python3"
  },
  "language_info": {
   "codemirror_mode": {
    "name": "ipython",
    "version": 3
   },
   "file_extension": ".py",
   "mimetype": "text/x-python",
   "name": "python",
   "nbconvert_exporter": "python",
   "pygments_lexer": "ipython3",
   "version": "3.6.9"
  }
 },
 "nbformat": 4,
 "nbformat_minor": 4
}
