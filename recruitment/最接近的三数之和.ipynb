{
 "cells": [
  {
   "cell_type": "markdown",
   "metadata": {},
   "source": [
    "# 最接近的三数之和\n",
    "给定一个包括 n 个整数的数组 nums 和 一个目标值 target。找出 nums 中的三个整数，使得它们的和与 target 最接近。返回这三个数的和。假定每组输入只存在唯一答案。\n",
    "\n",
    "\n",
    "示例1：\n",
    "\n",
    "```\n",
    "输入：nums = [-1,2,1,-4], target = 1\n",
    "输出：2\n",
    "解释：与 target 最接近的和是 2 (-1 + 2 + 1 = 2) 。\n",
    "```\n",
    "\n",
    "提示：\n",
    "\n",
    "* 3 <= nums.length <= $10^3$\n",
    "* -$10^3$ <= nums[i] <= $10^3$\n",
    "* -$10^4$ <= target <= $10^4$\n",
    "\n",
    "作答：\n",
    "\n"
   ]
  },
  {
   "cell_type": "code",
   "execution_count": null,
   "metadata": {},
   "outputs": [],
   "source": [
    "from typing import List\n",
    "class Solution:\n",
    "    def threeSumClosest(self, nums: List[int], target: int) -> int:"
   ]
  },
  {
   "cell_type": "markdown",
   "metadata": {},
   "source": [
    "验证结果："
   ]
  },
  {
   "cell_type": "code",
   "execution_count": null,
   "metadata": {},
   "outputs": [],
   "source": [
    "if __name__ == \"__main__\":\n",
    "    test = Solution()\n",
    "    print(test.threeSumClosest([-1,2,1,-4],1))"
   ]
  },
  {
   "cell_type": "markdown",
   "metadata": {},
   "source": [
    "## 答案解析\n",
    "\n",
    "代码：\n"
   ]
  },
  {
   "cell_type": "code",
   "execution_count": 6,
   "metadata": {},
   "outputs": [],
   "source": [
    "from typing import List\n",
    "class Solution:\n",
    "    def threeSumClosest(self, nums: List[int], target: int) -> int:\n",
    "        nums.sort()\n",
    "        n = len(nums)\n",
    "        best = 10**7\n",
    "        \n",
    "        # 根据差值的绝对值来更新答案\n",
    "        def update(cur):\n",
    "            nonlocal best\n",
    "            if abs(cur - target) < abs(best - target):\n",
    "                best = cur\n",
    "        \n",
    "        # 枚举 a\n",
    "        for i in range(n):\n",
    "            # 保证和上一次枚举的元素不相等\n",
    "            if i > 0 and nums[i] == nums[i - 1]:\n",
    "                continue\n",
    "            # 使用双指针枚举 b 和 c\n",
    "            j, k = i + 1, n - 1\n",
    "            while j < k:\n",
    "                s = nums[i] + nums[j] + nums[k]\n",
    "                # 如果和为 target 直接返回答案\n",
    "                if s == target:\n",
    "                    return target\n",
    "                update(s)\n",
    "                if s > target:\n",
    "                    # 如果和大于 target，移动 c 对应的指针\n",
    "                    k0 = k - 1\n",
    "                    # 移动到下一个不相等的元素\n",
    "                    while j < k0 and nums[k0] == nums[k]:\n",
    "                        k0 -= 1\n",
    "                    k = k0\n",
    "                else:\n",
    "                    # 如果和小于 target，移动 b 对应的指针\n",
    "                    j0 = j + 1\n",
    "                    # 移动到下一个不相等的元素\n",
    "                    while j0 < k and nums[j0] == nums[j]:\n",
    "                        j0 += 1\n",
    "                    j = j0\n",
    "\n",
    "        return best\n"
   ]
  },
  {
   "cell_type": "markdown",
   "metadata": {},
   "source": [
    "验证结果："
   ]
  },
  {
   "cell_type": "code",
   "execution_count": 7,
   "metadata": {},
   "outputs": [
    {
     "name": "stdout",
     "output_type": "stream",
     "text": [
      "2\n"
     ]
    }
   ],
   "source": [
    "if __name__ == \"__main__\":\n",
    "    test = Solution()\n",
    "    print(test.threeSumClosest([-1,2,1,-4],1))"
   ]
  },
  {
   "cell_type": "markdown",
   "metadata": {},
   "source": [
    "复杂度分析\n",
    "\n",
    "* 时间复杂度：O($N^2$)，其中 N 是数组 nums 的长度。我们首先需要 O(NlogN) 的时间对数组进行排序，随后在枚举的过程中，使用一重循环 O(N) 枚举 a，双指针 O(N) 枚举 b 和 c，故一共是 O($N^2$)。\n",
    "\n",
    "* 空间复杂度：O(logN)。排序需要使用 O(logN) 的空间。然而我们修改了输入的数组 nums，在实际情况下不一定允许，因此也可以看成使用了一个额外的数组存储了 nums 的副本并进行排序，此时空间复杂度为 O(N)。\n",
    "\n",
    "\n",
    "来源：力扣（LeetCode）"
   ]
  },
  {
   "cell_type": "code",
   "execution_count": null,
   "metadata": {},
   "outputs": [],
   "source": []
  }
 ],
 "metadata": {
  "kernelspec": {
   "display_name": "Python 3",
   "language": "python",
   "name": "python3"
  },
  "language_info": {
   "codemirror_mode": {
    "name": "ipython",
    "version": 3
   },
   "file_extension": ".py",
   "mimetype": "text/x-python",
   "name": "python",
   "nbconvert_exporter": "python",
   "pygments_lexer": "ipython3",
   "version": "3.6.9"
  }
 },
 "nbformat": 4,
 "nbformat_minor": 4
}
